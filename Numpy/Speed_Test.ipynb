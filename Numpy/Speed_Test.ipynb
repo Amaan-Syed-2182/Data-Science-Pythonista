{
 "cells": [
  {
   "cell_type": "code",
   "execution_count": 25,
   "id": "158d2194-56c9-43f5-ab41-bccaa8337091",
   "metadata": {},
   "outputs": [],
   "source": [
    "import numpy as np\n",
    "import time"
   ]
  },
  {
   "cell_type": "markdown",
   "id": "b2888ba2-4147-4aae-998f-5d263b81e859",
   "metadata": {},
   "source": [
    "# Demonstartion of Arrays speed"
   ]
  },
  {
   "cell_type": "code",
   "execution_count": 40,
   "id": "c2be1fc4-e984-4669-a219-297d46f2f107",
   "metadata": {},
   "outputs": [
    {
     "name": "stdout",
     "output_type": "stream",
     "text": [
      "List Operation time: 0.9538753032684326\n"
     ]
    }
   ],
   "source": [
    "\n",
    "size = 1_000_0000\n",
    "l1 = list(range(size))\n",
    "l2 = list(range(size))\n",
    "start = time.time()\n",
    "result = [x+y for x,y in zip(l1,l2)]\n",
    "end = time.time()\n",
    "print(f\"List Operation time: {end-start}\")\n"
   ]
  },
  {
   "cell_type": "code",
   "execution_count": 41,
   "id": "e3090bfe-65a2-4101-b14b-e773f7431a20",
   "metadata": {},
   "outputs": [
    {
     "name": "stdout",
     "output_type": "stream",
     "text": [
      "Araay Operation time: 0.01599884033203125\n"
     ]
    }
   ],
   "source": [
    "arr1 = np.array(l1)\n",
    "arr2 = np.array(l2)\n",
    "start_arr = time.time()\n",
    "result_arr = arr1 + arr2\n",
    "end_arr = time.time()\n",
    "print(f\"Araay Operation time: {end_arr - start_arr}\")"
   ]
  },
  {
   "cell_type": "markdown",
   "id": "96fb5f8c-9a80-4489-bb1f-a85b3002c31a",
   "metadata": {},
   "source": [
    "# Vectorization Speed Demonstration"
   ]
  },
  {
   "cell_type": "code",
   "execution_count": 44,
   "id": "6d10ad22-b7eb-49f0-a170-07b49a20a277",
   "metadata": {},
   "outputs": [
    {
     "name": "stdout",
     "output_type": "stream",
     "text": [
      "List Vectorization time: 1.1805202960968018\n"
     ]
    }
   ],
   "source": [
    "start_list = time.time()\n",
    "square = [x**2 for x in l1]\n",
    "end_list = time.time()\n",
    "print(f\"List Vectorization time: {end_list - start_list}\")"
   ]
  },
  {
   "cell_type": "code",
   "execution_count": 45,
   "id": "d47887fe-f9cb-4d81-a14e-179efd5d9bc3",
   "metadata": {},
   "outputs": [
    {
     "name": "stdout",
     "output_type": "stream",
     "text": [
      "Array Vectorization time: 0.21451330184936523\n"
     ]
    }
   ],
   "source": [
    "start_arr = time.time()\n",
    "result = arr1**2\n",
    "end_arr = time.time()\n",
    "print(f\"Array Vectorization time: {end_arr - start_arr}\")"
   ]
  },
  {
   "cell_type": "code",
   "execution_count": null,
   "id": "e4661ff7-3ec1-4fda-b9aa-001394b2ca4c",
   "metadata": {},
   "outputs": [],
   "source": []
  },
  {
   "cell_type": "code",
   "execution_count": null,
   "id": "514e5d45-3b37-4d34-955f-a403bfb58bb1",
   "metadata": {},
   "outputs": [],
   "source": []
  }
 ],
 "metadata": {
  "kernelspec": {
   "display_name": "Python [conda env:base] *",
   "language": "python",
   "name": "conda-base-py"
  },
  "language_info": {
   "codemirror_mode": {
    "name": "ipython",
    "version": 3
   },
   "file_extension": ".py",
   "mimetype": "text/x-python",
   "name": "python",
   "nbconvert_exporter": "python",
   "pygments_lexer": "ipython3",
   "version": "3.12.7"
  }
 },
 "nbformat": 4,
 "nbformat_minor": 5
}

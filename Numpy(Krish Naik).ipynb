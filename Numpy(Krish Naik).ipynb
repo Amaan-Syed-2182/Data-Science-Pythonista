{
 "cells": [
  {
   "cell_type": "markdown",
   "id": "47339618-39cd-43d0-9c57-7381cc3094cf",
   "metadata": {},
   "source": [
    "## Numpy"
   ]
  },
  {
   "cell_type": "code",
   "execution_count": 171,
   "id": "81975081-72cc-40c5-87ca-abb2720d699e",
   "metadata": {},
   "outputs": [
    {
     "name": "stdout",
     "output_type": "stream",
     "text": [
      "Requirement already satisfied: numpy in c:\\users\\amaan\\anaconda3\\lib\\site-packages (1.26.4)Note: you may need to restart the kernel to use updated packages.\n",
      "\n"
     ]
    }
   ],
   "source": [
    "pip install numpy"
   ]
  },
  {
   "cell_type": "code",
   "execution_count": 172,
   "id": "86186090-77e8-4a0e-b8ea-9ba9fc6ff87c",
   "metadata": {},
   "outputs": [],
   "source": [
    "import numpy as np"
   ]
  },
  {
   "cell_type": "code",
   "execution_count": 173,
   "id": "5a0276f5-01b4-4552-b953-ce7fcdebd682",
   "metadata": {},
   "outputs": [
    {
     "name": "stdout",
     "output_type": "stream",
     "text": [
      "<class 'numpy.ndarray'> [1 2 3 4 5]\n",
      "(5,)\n"
     ]
    }
   ],
   "source": [
    "# One-Dimensional Array\n",
    "lst1 = [1,2,3,4,5]\n",
    "arr1 = np.array(lst1)\n",
    "print(type(arr1),arr1)\n",
    "print(arr1.shape)"
   ]
  },
  {
   "cell_type": "code",
   "execution_count": 174,
   "id": "c8a323fc-c6dd-431e-8e7e-bdab79e5fbca",
   "metadata": {},
   "outputs": [
    {
     "name": "stdout",
     "output_type": "stream",
     "text": [
      "[[ 1  2  3  4  5]\n",
      " [ 4  5  6  7  8]\n",
      " [ 9 10 11 12 13]]\n",
      "(3, 5)\n",
      "[[ 1  2  3]\n",
      " [ 4  5  4]\n",
      " [ 5  6  7]\n",
      " [ 8  9 10]\n",
      " [11 12 13]]\n"
     ]
    }
   ],
   "source": [
    "# Multi-Dimensional Array\n",
    "lst2 = [1,2,3,4,5]\n",
    "lst3 = [4,5,6,7,8]\n",
    "lst4 = [9,10,11,12,13]\n",
    "arr2 = np.array([lst2,lst3,lst4])\n",
    "print(arr2)\n",
    "print(arr2.shape)\n",
    "print(arr2.reshape(5,3))"
   ]
  },
  {
   "cell_type": "code",
   "execution_count": 175,
   "id": "d4946206-4ea3-4eda-935f-4676c36c08a6",
   "metadata": {},
   "outputs": [
    {
     "name": "stdout",
     "output_type": "stream",
     "text": [
      "[[ 6  7]\n",
      " [11 12]]\n",
      "[[4 5]\n",
      " [7 8]]\n",
      "[[ 2  3  4]\n",
      " [ 5  6  7]\n",
      " [10 11 12]]\n"
     ]
    }
   ],
   "source": [
    "# Indexing in Array\n",
    "lst2 = [1,2,3,4,5]\n",
    "lst3 = [4,5,6,7,8]\n",
    "lst4 = [9,10,11,12,13]\n",
    "arr2 = np.array([lst2,lst3,lst4])\n",
    "# fetch[6,7]\n",
    "#      [11,12]\n",
    "print(arr2[1:,2:4])\n",
    "# fetch [4,5]\n",
    "      # [7,8]\n",
    "print(arr2[:2,3:])\n",
    "# fetch [2,3,4]\n",
    "     #  [5,6,7]\n",
    "     #  [10,11,12]\n",
    "print(arr2[:,1:4])"
   ]
  },
  {
   "cell_type": "markdown",
   "id": "24dd3bf3-829f-4b00-bd08-7472d1fe6ccd",
   "metadata": {},
   "source": [
    "## Inbuilt Functions of Numpy\n"
   ]
  },
  {
   "cell_type": "code",
   "execution_count": 177,
   "id": "4a78d048-d29f-410a-95b8-8dca53db7b5a",
   "metadata": {},
   "outputs": [
    {
     "name": "stdout",
     "output_type": "stream",
     "text": [
      "[1 3 5 7 9]\n"
     ]
    }
   ],
   "source": [
    "# 1. arrange()\n",
    "arr3 = np.arange(1,10,2)\n",
    "print(arr3)"
   ]
  },
  {
   "cell_type": "code",
   "execution_count": 178,
   "id": "ac178f9a-a61b-4b22-b552-40a7dca78634",
   "metadata": {},
   "outputs": [
    {
     "name": "stdout",
     "output_type": "stream",
     "text": [
      "[ 1.          1.64285714  2.28571429  2.92857143  3.57142857  4.21428571\n",
      "  4.85714286  5.5         6.14285714  6.78571429  7.42857143  8.07142857\n",
      "  8.71428571  9.35714286 10.        ]\n"
     ]
    }
   ],
   "source": [
    "# 2. linspace()\n",
    "arr4 = np.linspace(1,10,15)\n",
    "print(arr4)"
   ]
  },
  {
   "cell_type": "code",
   "execution_count": 179,
   "id": "47f92921-aad9-4c92-87e3-b76708a9cbe8",
   "metadata": {},
   "outputs": [
    {
     "name": "stdout",
     "output_type": "stream",
     "text": [
      "[ 1.          1.64285714  2.28571429  2.92857143  3.57142857  4.21428571\n",
      "  4.85714286  5.5         6.14285714  6.78571429  7.42857143  8.07142857\n",
      "  8.71428571  9.35714286 10.        ]\n"
     ]
    }
   ],
   "source": [
    "# 3. copy()\n",
    "arr5 = np.copy(arr4)\n",
    "print(arr5)"
   ]
  },
  {
   "cell_type": "code",
   "execution_count": 180,
   "id": "45ca7a3c-06b4-4a68-b5d3-f2a45c113080",
   "metadata": {},
   "outputs": [
    {
     "name": "stdout",
     "output_type": "stream",
     "text": [
      "[1. 1. 1. 1. 1. 1.]\n"
     ]
    }
   ],
   "source": [
    "# 4. ones()\n",
    "arr6 = np.ones(6)\n",
    "print(arr6)"
   ]
  },
  {
   "cell_type": "code",
   "execution_count": 181,
   "id": "e6420a6a-7f1b-4cf5-9384-d67e2a742669",
   "metadata": {},
   "outputs": [
    {
     "name": "stdout",
     "output_type": "stream",
     "text": [
      "[[0.12863581 0.2416447  0.0719831  0.32319526 0.6399851  0.85228172\n",
      "  0.76061182 0.74913856 0.87847749 0.1589556 ]\n",
      " [0.16201295 0.79173269 0.70344332 0.64048063 0.74055148 0.78170145\n",
      "  0.04346276 0.02525656 0.17525048 0.51723169]\n",
      " [0.57908399 0.38247485 0.83155523 0.66045979 0.56980797 0.37482747\n",
      "  0.70721704 0.57126507 0.62985987 0.67580746]\n",
      " [0.3059354  0.48964834 0.96149293 0.94783362 0.88287045 0.61284117\n",
      "  0.23787533 0.76150656 0.8068563  0.58432029]\n",
      " [0.59881116 0.90421998 0.4089117  0.95595363 0.71449838 0.27434433\n",
      "  0.90257499 0.94399481 0.60546221 0.17822852]]\n"
     ]
    }
   ],
   "source": [
    "# 5. random.rand()\n",
    "arr7 = np.random.rand(5,10)\n",
    "print(arr7)"
   ]
  },
  {
   "cell_type": "code",
   "execution_count": 182,
   "id": "29f31d3a-a99d-44cf-823a-36b0c54c2d8f",
   "metadata": {},
   "outputs": [
    {
     "name": "stdout",
     "output_type": "stream",
     "text": [
      "[[-1.64727855 -0.83925901 -0.63666751]\n",
      " [-0.01417694 -2.41026551  0.7810195 ]\n",
      " [ 0.39913517  0.90003625 -0.46240496]]\n"
     ]
    }
   ],
   "source": [
    "# 6. random.randn()\n",
    "arr8 = np.random.randn(3,3)\n",
    "print(arr8)"
   ]
  },
  {
   "cell_type": "code",
   "execution_count": 183,
   "id": "1939a1e1-3743-4627-b894-bf61abe9faad",
   "metadata": {},
   "outputs": [
    {
     "name": "stdout",
     "output_type": "stream",
     "text": [
      "[13 18 46 11 27 25 38]\n"
     ]
    }
   ],
   "source": [
    "# 7. random.randint()\n",
    "arr9 = np.random.randint(3,50,7)\n",
    "print(arr9)"
   ]
  },
  {
   "cell_type": "code",
   "execution_count": 184,
   "id": "1b8a78bd-4c9d-4572-ac0f-44c67693e37f",
   "metadata": {},
   "outputs": [
    {
     "name": "stdout",
     "output_type": "stream",
     "text": [
      "[[0.85386188 0.40103834 0.00715643 0.88415403 0.45835438]\n",
      " [0.31122787 0.80555954 0.66834411 0.41066142 0.17835091]]\n"
     ]
    }
   ],
   "source": [
    "# 8. random.random_sample()\n",
    "arr10 = np.random.random_sample((2,5))\n",
    "print(arr10)"
   ]
  }
 ],
 "metadata": {
  "kernelspec": {
   "display_name": "Python [conda env:base] *",
   "language": "python",
   "name": "conda-base-py"
  },
  "language_info": {
   "codemirror_mode": {
    "name": "ipython",
    "version": 3
   },
   "file_extension": ".py",
   "mimetype": "text/x-python",
   "name": "python",
   "nbconvert_exporter": "python",
   "pygments_lexer": "ipython3",
   "version": "3.12.7"
  }
 },
 "nbformat": 4,
 "nbformat_minor": 5
}

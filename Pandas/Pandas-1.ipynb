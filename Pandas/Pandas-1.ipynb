{
 "cells": [
  {
   "cell_type": "markdown",
   "id": "efb55c66-75db-46f3-b2a6-9bc867737db3",
   "metadata": {},
   "source": [
    "## Pandas\n",
    "### pandas => Library which is used to manipulate, transform, change and prepare\n",
    "### Numpy => Numerical / String => Sql developer"
   ]
  },
  {
   "cell_type": "code",
   "execution_count": 1,
   "id": "65de4f3c-19d8-4f85-b3ff-13ed07e1398e",
   "metadata": {},
   "outputs": [
    {
     "name": "stdout",
     "output_type": "stream",
     "text": [
      "<class 'pandas.core.series.Series'> 0    10\n",
      "1    20\n",
      "2    30\n",
      "3    40\n",
      "4    90\n",
      "dtype: int64\n",
      "1    50\n",
      "2    30\n",
      "3    40\n",
      "4    90\n",
      "dtype: int64\n"
     ]
    }
   ],
   "source": [
    "# Seiries => 1 column / Representation of nd array\n",
    "import pandas as pd\n",
    "import numpy as np\n",
    "x=pd.Series([10,20,30,40,90])\n",
    "print(type(x),x)\n",
    "x[1] = 50\n",
    "print(x[1:])"
   ]
  },
  {
   "cell_type": "code",
   "execution_count": 44,
   "id": "36e068d4-f16c-41e8-a828-a4c6fdef407b",
   "metadata": {},
   "outputs": [
    {
     "name": "stdout",
     "output_type": "stream",
     "text": [
      "<class 'pandas.core.series.Series'>\n",
      "B    20\n",
      "C    30\n",
      "D    40\n",
      "dtype: int64\n"
     ]
    }
   ],
   "source": [
    "import pandas as pd\n",
    "import numpy as np\n",
    "x=pd.Series([10,20,30,40],index=[\"A\",'B','C','D'])\n",
    "print(type(x))\n",
    "print(x[1:])"
   ]
  },
  {
   "cell_type": "code",
   "execution_count": 50,
   "id": "b4fe26b1-6fff-4f7a-b896-60035a34397b",
   "metadata": {},
   "outputs": [
    {
     "name": "stdout",
     "output_type": "stream",
     "text": [
      "[10 20 30 40]\n",
      "True\n"
     ]
    }
   ],
   "source": [
    "print(x.values)\n",
    "print(10 in x.values)"
   ]
  },
  {
   "cell_type": "code",
   "execution_count": 52,
   "id": "a9610951-d1d6-4c11-a19e-1c7bebb86580",
   "metadata": {},
   "outputs": [
    {
     "data": {
      "text/plain": [
       "[10, 20, 30, 40]"
      ]
     },
     "execution_count": 52,
     "metadata": {},
     "output_type": "execute_result"
    }
   ],
   "source": [
    "x.to_list() # converts to list"
   ]
  },
  {
   "cell_type": "code",
   "execution_count": 54,
   "id": "fe7a3bea-8bfc-4449-8e15-149a8d8341c2",
   "metadata": {},
   "outputs": [
    {
     "data": {
      "text/plain": [
       "{'A': 10, 'B': 20, 'C': 30, 'D': 40}"
      ]
     },
     "execution_count": 54,
     "metadata": {},
     "output_type": "execute_result"
    }
   ],
   "source": [
    "x.to_dict() # converts to dictionary"
   ]
  },
  {
   "cell_type": "code",
   "execution_count": 58,
   "id": "a6538491-cba0-4a6d-a561-9f68070bde22",
   "metadata": {},
   "outputs": [
    {
     "data": {
      "text/plain": [
       "100"
      ]
     },
     "execution_count": 58,
     "metadata": {},
     "output_type": "execute_result"
    }
   ],
   "source": [
    "x.sum() # returns the sum"
   ]
  },
  {
   "cell_type": "code",
   "execution_count": 60,
   "id": "a7bac0bc-4220-4666-a15a-2d59402c7ff9",
   "metadata": {},
   "outputs": [
    {
     "data": {
      "text/plain": [
       "25.0"
      ]
     },
     "execution_count": 60,
     "metadata": {},
     "output_type": "execute_result"
    }
   ],
   "source": [
    "x.mean()# returns the mean"
   ]
  },
  {
   "cell_type": "code",
   "execution_count": 62,
   "id": "cd5c74e9-65de-44f3-8b6b-39a26216f3eb",
   "metadata": {},
   "outputs": [
    {
     "data": {
      "text/plain": [
       "40"
      ]
     },
     "execution_count": 62,
     "metadata": {},
     "output_type": "execute_result"
    }
   ],
   "source": [
    "x.max()# returns the max"
   ]
  },
  {
   "cell_type": "code",
   "execution_count": 64,
   "id": "9e92bf65-48a6-4df5-b437-23d39fabbc34",
   "metadata": {},
   "outputs": [
    {
     "data": {
      "text/plain": [
       "10"
      ]
     },
     "execution_count": 64,
     "metadata": {},
     "output_type": "execute_result"
    }
   ],
   "source": [
    "x.min()# returns the min"
   ]
  },
  {
   "cell_type": "code",
   "execution_count": 69,
   "id": "9cb23566-5886-4a5b-96c9-cda5f3a43ddd",
   "metadata": {},
   "outputs": [
    {
     "data": {
      "text/plain": [
       "'D'"
      ]
     },
     "execution_count": 69,
     "metadata": {},
     "output_type": "execute_result"
    }
   ],
   "source": [
    "x.idxmax() # returns the index of max element"
   ]
  },
  {
   "cell_type": "code",
   "execution_count": 77,
   "id": "94ce81a1-f144-4b74-9ece-562a974c1163",
   "metadata": {},
   "outputs": [
    {
     "data": {
      "text/plain": [
       "10    1\n",
       "20    1\n",
       "30    1\n",
       "40    1\n",
       "Name: count, dtype: int64"
      ]
     },
     "execution_count": 77,
     "metadata": {},
     "output_type": "execute_result"
    }
   ],
   "source": [
    "x.value_counts() # Counts each value occurence"
   ]
  },
  {
   "cell_type": "code",
   "execution_count": 112,
   "id": "016b7ff9-0d01-4b82-b009-582bfd814b7f",
   "metadata": {},
   "outputs": [
    {
     "name": "stdout",
     "output_type": "stream",
     "text": [
      "0     10\n",
      "1     20\n",
      "2     30\n",
      "12    32\n",
      "3     40\n",
      "7     44\n",
      "4     50\n",
      "13    56\n",
      "5     60\n",
      "15    64\n",
      "11    65\n",
      "8     66\n",
      "16    67\n",
      "6     70\n",
      "14    76\n",
      "9     77\n",
      "10    87\n",
      "17    93\n",
      "dtype: int64\n",
      "0     93\n",
      "1     87\n",
      "2     77\n",
      "3     76\n",
      "4     70\n",
      "5     67\n",
      "6     66\n",
      "7     65\n",
      "8     64\n",
      "9     60\n",
      "10    56\n",
      "11    50\n",
      "12    44\n",
      "13    40\n",
      "14    32\n",
      "15    30\n",
      "16    20\n",
      "17    10\n",
      "dtype: int64\n"
     ]
    }
   ],
   "source": [
    "print(x.sort_values()) # Sorts each value without changing the Index\n",
    "print(x.sort_values(ascending=False,ignore_index=True)) # Sorts each value and ignores the index starts from 0"
   ]
  },
  {
   "cell_type": "code",
   "execution_count": 114,
   "id": "2a10d556-f9e2-4bf6-9e35-1d252e61f0a9",
   "metadata": {},
   "outputs": [
    {
     "name": "stdout",
     "output_type": "stream",
     "text": [
      "0     Grade F\n",
      "1     Grade F\n",
      "2     Grade F\n",
      "3     Grade B\n",
      "4     Grade B\n",
      "5     Grade A\n",
      "6     Grade A\n",
      "7     Grade B\n",
      "8     Grade A\n",
      "9     Grade A\n",
      "10    Grade A\n",
      "11    Grade A\n",
      "12    Grade F\n",
      "13    Grade B\n",
      "14    Grade A\n",
      "15    Grade A\n",
      "16    Grade A\n",
      "17    Grade A\n",
      "dtype: object\n"
     ]
    }
   ],
   "source": [
    "x = pd.Series([10,20,30,40,50,60,70,44,66,77,87,65,32,56,76,64,67,93])\n",
    "def grade(num):\n",
    "    if num<40:\n",
    "        return \"Grade F\"\n",
    "    elif num<60:\n",
    "        return \"Grade B\"\n",
    "    else:\n",
    "        return \"Grade A\"\n",
    "\n",
    "grade=x.apply(grade)\n",
    "print(marks)"
   ]
  },
  {
   "cell_type": "code",
   "execution_count": 116,
   "id": "6d59c109-ee6b-4bd7-a263-0075a1a9decd",
   "metadata": {},
   "outputs": [
    {
     "data": {
      "text/plain": [
       "2     30\n",
       "3     40\n",
       "4     50\n",
       "5     60\n",
       "6     70\n",
       "7     44\n",
       "8     66\n",
       "9     77\n",
       "10    87\n",
       "11    65\n",
       "12    32\n",
       "13    56\n",
       "14    76\n",
       "15    64\n",
       "16    67\n",
       "17    93\n",
       "dtype: int64"
      ]
     },
     "execution_count": 116,
     "metadata": {},
     "output_type": "execute_result"
    }
   ],
   "source": [
    "x[x>20]"
   ]
  }
 ],
 "metadata": {
  "kernelspec": {
   "display_name": "Python [conda env:base] *",
   "language": "python",
   "name": "conda-base-py"
  },
  "language_info": {
   "codemirror_mode": {
    "name": "ipython",
    "version": 3
   },
   "file_extension": ".py",
   "mimetype": "text/x-python",
   "name": "python",
   "nbconvert_exporter": "python",
   "pygments_lexer": "ipython3",
   "version": "3.12.7"
  }
 },
 "nbformat": 4,
 "nbformat_minor": 5
}

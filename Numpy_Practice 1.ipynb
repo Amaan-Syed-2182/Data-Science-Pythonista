{
 "cells": [
  {
   "cell_type": "code",
   "execution_count": 3,
   "id": "76030e68-2b2a-4aaf-aff7-018997f84474",
   "metadata": {},
   "outputs": [
    {
     "name": "stdout",
     "output_type": "stream",
     "text": [
      "[0 1 2 3 4 5 6 7 8 9]\n"
     ]
    }
   ],
   "source": [
    "# Q1: Create a 1D NumPy array of values from 0 to 9.\n",
    "import numpy as np\n",
    "arr = np.arange(0,10)\n",
    "print(arr)"
   ]
  },
  {
   "cell_type": "code",
   "execution_count": 5,
   "id": "4fb94e8d-f0d9-4139-86bd-b8d777309f96",
   "metadata": {},
   "outputs": [
    {
     "name": "stdout",
     "output_type": "stream",
     "text": [
      "[[5 5 5]\n",
      " [5 5 5]\n",
      " [5 5 5]]\n"
     ]
    }
   ],
   "source": [
    "arr = np.full((3,3),5)\n",
    "print(arr)"
   ]
  },
  {
   "cell_type": "code",
   "execution_count": 9,
   "id": "df672e56-102a-4f4d-bcbc-b78cc24ed7d0",
   "metadata": {},
   "outputs": [
    {
     "name": "stdout",
     "output_type": "stream",
     "text": [
      "[[1. 0. 0. 0.]\n",
      " [0. 1. 0. 0.]\n",
      " [0. 0. 1. 0.]\n",
      " [0. 0. 0. 1.]]\n"
     ]
    }
   ],
   "source": [
    "arr = np.eye(4)\n",
    "print(arr)"
   ]
  },
  {
   "cell_type": "code",
   "execution_count": 15,
   "id": "4b6f18b3-cbf5-4099-beed-a9575ba49c27",
   "metadata": {},
   "outputs": [
    {
     "data": {
      "text/plain": [
       "array([[ 1,  2,  3,  4],\n",
       "       [ 5,  6,  7,  8],\n",
       "       [ 9, 10, 11, 12]])"
      ]
     },
     "execution_count": 15,
     "metadata": {},
     "output_type": "execute_result"
    }
   ],
   "source": [
    "arr = np.arange(1,13)\n",
    "np.reshape(arr,(3,4))"
   ]
  },
  {
   "cell_type": "code",
   "execution_count": 17,
   "id": "a719b88a-a89b-40f4-a2c7-e66e0d2a0213",
   "metadata": {},
   "outputs": [
    {
     "name": "stdout",
     "output_type": "stream",
     "text": [
      "[0.   0.25 0.5  0.75 1.  ]\n"
     ]
    }
   ],
   "source": [
    "arr = np.linspace(0,1,5)\n",
    "print(arr)"
   ]
  },
  {
   "cell_type": "code",
   "execution_count": 19,
   "id": "f38cf43d-2e65-4452-8032-c5463f895b20",
   "metadata": {},
   "outputs": [
    {
     "name": "stdout",
     "output_type": "stream",
     "text": [
      "[20 30 40]\n"
     ]
    }
   ],
   "source": [
    "arr = np.array([10, 20, 30, 40, 50])\n",
    "print(arr[1:4])"
   ]
  },
  {
   "cell_type": "code",
   "execution_count": 21,
   "id": "45e1ad6a-b6da-4739-8e4b-78c2a17473de",
   "metadata": {},
   "outputs": [
    {
     "name": "stdout",
     "output_type": "stream",
     "text": [
      "5\n"
     ]
    }
   ],
   "source": [
    "arr2d = np.array([[1, 2, 3],\n",
    "                  [4, 5, 6]])\n",
    "print(arr2d[1,1])"
   ]
  },
  {
   "cell_type": "code",
   "execution_count": 23,
   "id": "1b439ba3-f3ba-44ff-8ae6-35796e6e83b3",
   "metadata": {},
   "outputs": [
    {
     "name": "stdout",
     "output_type": "stream",
     "text": [
      "[45 60]\n"
     ]
    }
   ],
   "source": [
    "arr = np.array([10, 25, 30, 45, 60])\n",
    "print(arr[arr>30])"
   ]
  },
  {
   "cell_type": "code",
   "execution_count": 25,
   "id": "dbb3f6d2-277e-497b-b4dd-6f4efb5da3f8",
   "metadata": {},
   "outputs": [
    {
     "name": "stdout",
     "output_type": "stream",
     "text": [
      "[25 30 45]\n"
     ]
    }
   ],
   "source": [
    "arr = np.array([10, 25, 30, 45, 60])\n",
    "print(arr[(arr>20) & (arr<50)])"
   ]
  },
  {
   "cell_type": "code",
   "execution_count": 27,
   "id": "b3a6cba0-b2f7-4190-ba52-09024f689580",
   "metadata": {},
   "outputs": [
    {
     "name": "stdout",
     "output_type": "stream",
     "text": [
      "[5 7 9]\n"
     ]
    }
   ],
   "source": [
    "a = np.array([1, 2, 3])\n",
    "b = np.array([4, 5, 6])\n",
    "print(a+b)"
   ]
  },
  {
   "cell_type": "code",
   "execution_count": 29,
   "id": "e1d8e2c3-7af2-4e5c-afce-f3e3fef2712e",
   "metadata": {},
   "outputs": [
    {
     "name": "stdout",
     "output_type": "stream",
     "text": [
      "[3 6 9]\n"
     ]
    }
   ],
   "source": [
    "a = np.array([1, 2, 3])\n",
    "a *= 3\n",
    "print(a)\n"
   ]
  },
  {
   "cell_type": "code",
   "execution_count": 31,
   "id": "9452fa17-8c60-4215-9399-795b75465383",
   "metadata": {},
   "outputs": [
    {
     "name": "stdout",
     "output_type": "stream",
     "text": [
      "30\n",
      "10\n",
      "20.0\n",
      "60\n"
     ]
    }
   ],
   "source": [
    "arr = np.array([10, 20, 30])\n",
    "print(np.max(arr))\n",
    "print(np.min(arr))\n",
    "print(np.mean(arr))\n",
    "print(np.sum(arr))"
   ]
  },
  {
   "cell_type": "code",
   "execution_count": 47,
   "id": "60c35ea9-813f-49d5-b49a-852da7f5d9b6",
   "metadata": {},
   "outputs": [
    {
     "name": "stdout",
     "output_type": "stream",
     "text": [
      "[[1 9 9]\n",
      " [9 5 0]]\n"
     ]
    }
   ],
   "source": [
    "arr = np.random.randint(0,9,size=(2,3))\n",
    "print(arr)"
   ]
  },
  {
   "cell_type": "code",
   "execution_count": 49,
   "id": "f6fb94a1-37eb-45d2-9aab-e90691e94eb5",
   "metadata": {},
   "outputs": [
    {
     "name": "stdout",
     "output_type": "stream",
     "text": [
      "[ 2  4  6  8 10 12 14 16 18 20]\n"
     ]
    }
   ],
   "source": [
    "arr = np.arange(2,21,2)\n",
    "print(arr)"
   ]
  },
  {
   "cell_type": "code",
   "execution_count": 61,
   "id": "3e2109a1-1719-4b40-be44-09a5a4e0e059",
   "metadata": {},
   "outputs": [
    {
     "name": "stdout",
     "output_type": "stream",
     "text": [
      "[1 2 3 4 5 6 7 8 9]\n"
     ]
    }
   ],
   "source": [
    "arr = np.reshape(np.arange(1,10),(3,3))\n",
    "print(arr.flatten())"
   ]
  },
  {
   "cell_type": "code",
   "execution_count": 65,
   "id": "a722ceb8-6e7a-47ab-9315-6e32601bd8a5",
   "metadata": {},
   "outputs": [
    {
     "name": "stdout",
     "output_type": "stream",
     "text": [
      "[15 30 45 60 75]\n"
     ]
    }
   ],
   "source": [
    "arr = np.array([15, 30, 45, 60, 75])\n",
    "print(arr[(arr%3==0) & (arr%5==0)])"
   ]
  },
  {
   "cell_type": "code",
   "execution_count": 95,
   "id": "ce7e34f9-4d8c-4719-bb92-886148ac57ba",
   "metadata": {},
   "outputs": [
    {
     "name": "stdout",
     "output_type": "stream",
     "text": [
      "[[15 56 66 71]\n",
      " [86 87 71  3]\n",
      " [84 88 26 94]\n",
      " [47 60 89 49]]\n",
      "\n",
      "[15 56 66 71] [71  3 94 49]\n"
     ]
    }
   ],
   "source": [
    "arr = np.random.randint(1,100,size=(4,4))\n",
    "print(arr)\n",
    "print()\n",
    "print(arr[0],arr[:,-1])"
   ]
  },
  {
   "cell_type": "code",
   "execution_count": 109,
   "id": "6186c28f-3aa6-4f3b-8689-bf4badef79b1",
   "metadata": {},
   "outputs": [
    {
     "name": "stdout",
     "output_type": "stream",
     "text": [
      "[-1 -1 -1 70 -1 -1 -1 -1 74 -1]\n"
     ]
    }
   ],
   "source": [
    "arr = np.random.randint(50,100,10)\n",
    "arr[arr>75] = -1\n",
    "print(arr)"
   ]
  },
  {
   "cell_type": "code",
   "execution_count": 123,
   "id": "910c6eaf-ca7d-4168-a655-e5b70f3edea0",
   "metadata": {},
   "outputs": [
    {
     "name": "stdout",
     "output_type": "stream",
     "text": [
      "[1 5 9]\n"
     ]
    }
   ],
   "source": [
    "arr = np.array([[ 1,  2 , 3],\n",
    " [ 4 , 5,  6],\n",
    " [ 7 , 8 , 9]])\n",
    "print(np.diag(arr))"
   ]
  },
  {
   "cell_type": "code",
   "execution_count": null,
   "id": "c74eb8de-7216-405e-8d4c-f417edb19f0f",
   "metadata": {},
   "outputs": [],
   "source": []
  }
 ],
 "metadata": {
  "kernelspec": {
   "display_name": "Python [conda env:base] *",
   "language": "python",
   "name": "conda-base-py"
  },
  "language_info": {
   "codemirror_mode": {
    "name": "ipython",
    "version": 3
   },
   "file_extension": ".py",
   "mimetype": "text/x-python",
   "name": "python",
   "nbconvert_exporter": "python",
   "pygments_lexer": "ipython3",
   "version": "3.12.7"
  }
 },
 "nbformat": 4,
 "nbformat_minor": 5
}

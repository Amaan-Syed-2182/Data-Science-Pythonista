{
 "cells": [
  {
   "cell_type": "code",
   "execution_count": 1,
   "id": "74aacb0c-0606-44c8-80b5-a64307dd55e1",
   "metadata": {},
   "outputs": [
    {
     "name": "stdout",
     "output_type": "stream",
     "text": [
      "[[10 20 30]\n",
      " [40 50 60]]\n"
     ]
    }
   ],
   "source": [
    "import numpy as np\n",
    "arr = np.array([[10,20,30],[40,50,60]])\n",
    "print(arr)"
   ]
  },
  {
   "cell_type": "code",
   "execution_count": 19,
   "id": "272e2cbc-3b99-4b2b-a732-1dfec65d7072",
   "metadata": {},
   "outputs": [
    {
     "name": "stdout",
     "output_type": "stream",
     "text": [
      "[20 30]\n",
      "[50 40]\n",
      "[50 60]\n"
     ]
    }
   ],
   "source": [
    "print(arr[0][1:])\n",
    "print(arr[1][-2::-1])\n",
    "print(arr[1][1:])"
   ]
  },
  {
   "cell_type": "code",
   "execution_count": 51,
   "id": "54cd32a7-d813-4c70-8bf1-2a1e1fefffa1",
   "metadata": {},
   "outputs": [
    {
     "name": "stdout",
     "output_type": "stream",
     "text": [
      "[10 20 40 50]\n"
     ]
    }
   ],
   "source": [
    "print(arr[0: ,0:2].flatten()) # arr[row: , cols:].flatten(): converts 2d array to 1d array"
   ]
  },
  {
   "cell_type": "code",
   "execution_count": 65,
   "id": "09c77245-5866-469b-aa7e-beafbb323624",
   "metadata": {},
   "outputs": [
    {
     "name": "stdout",
     "output_type": "stream",
     "text": [
      "[30 40]\n"
     ]
    }
   ],
   "source": [
    "arr = np.array([[10,20,30],[40,50,60]])\n",
    "# print(arr)\n",
    "print(arr[(arr>25) & (arr<50)])"
   ]
  },
  {
   "cell_type": "code",
   "execution_count": 93,
   "id": "d407b03d-0c29-4d45-af4c-f3a169d24b8f",
   "metadata": {},
   "outputs": [
    {
     "name": "stdout",
     "output_type": "stream",
     "text": [
      "[ 6  8 10]\n",
      "[4 4 4]\n",
      "[ 5 12 21]\n",
      "[0 0 0]\n",
      "[0 0 1]\n",
      "[  5  36 343]\n",
      "38\n"
     ]
    }
   ],
   "source": [
    "a = np.array([1,2,3])\n",
    "b = np.array([5,6,7])\n",
    "print(a+b)\n",
    "print(b-a)\n",
    "print(a*b)\n",
    "print(a//b)\n",
    "print(b%a)\n",
    "print(b**a)\n",
    "print(np.dot(a,b))"
   ]
  },
  {
   "cell_type": "code",
   "execution_count": 89,
   "id": "e7dcdafb-a2c3-4ac9-8fa7-d93f8be121c7",
   "metadata": {},
   "outputs": [
    {
     "name": "stdout",
     "output_type": "stream",
     "text": [
      "[32 77]\n"
     ]
    }
   ],
   "source": [
    "# np.dot() function is used to find the Dot product\n",
    "a = np.array([[1,2,3],[4,5,6]]) # 2d array dot product\n",
    "b = np.array([4,5,6])\n",
    "print(np.dot(a,b))"
   ]
  },
  {
   "cell_type": "code",
   "execution_count": 91,
   "id": "3991218e-06d4-439d-83bd-278487719caf",
   "metadata": {},
   "outputs": [
    {
     "name": "stdout",
     "output_type": "stream",
     "text": [
      "[[ 9 12 15]\n",
      " [19 26 33]\n",
      " [29 40 51]]\n"
     ]
    }
   ],
   "source": [
    "a = [[1,2],\n",
    "    [3,4],\n",
    "     [5,6] ]\n",
    "b = [[1,2,3],\n",
    "    [4,5,6]]\n",
    "print(np.dot(a,b))"
   ]
  },
  {
   "cell_type": "code",
   "execution_count": 99,
   "id": "97041f8f-6be0-4c59-a9eb-6c1512529b77",
   "metadata": {},
   "outputs": [
    {
     "name": "stdout",
     "output_type": "stream",
     "text": [
      "10\n",
      "2.5\n",
      "[1 2]\n",
      "[2 4]\n"
     ]
    }
   ],
   "source": [
    "data = np.array([[1,2],[3,4]])\n",
    "print(np.sum(data))\n",
    "print(np.mean(data))\n",
    "print(np.min(data,axis=0)) # axis=0 works for column\n",
    "print(np.max(data,axis=1)) # axos=1 works for rows"
   ]
  },
  {
   "cell_type": "code",
   "execution_count": 111,
   "id": "22127281-9b22-4e76-af6f-e1ed44d79962",
   "metadata": {},
   "outputs": [
    {
     "name": "stdout",
     "output_type": "stream",
     "text": [
      "[[1 2]\n",
      " [3 4]\n",
      " [5 6]\n",
      " [7 8]]\n",
      "[[1 2 5 6]\n",
      " [3 4 7 8]]\n"
     ]
    }
   ],
   "source": [
    "x = np.array([[1,2],\n",
    "             [3,4]])\n",
    "y = np.array([[5,6],[7,8]])\n",
    "v = np.vstack((x,y))\n",
    "h = np.hstack((x,y))\n",
    "print(v)\n",
    "print(h)"
   ]
  },
  {
   "cell_type": "code",
   "execution_count": null,
   "id": "3f6cf6ee-898a-455f-84ef-808f5d80e513",
   "metadata": {},
   "outputs": [],
   "source": []
  }
 ],
 "metadata": {
  "kernelspec": {
   "display_name": "Python [conda env:base] *",
   "language": "python",
   "name": "conda-base-py"
  },
  "language_info": {
   "codemirror_mode": {
    "name": "ipython",
    "version": 3
   },
   "file_extension": ".py",
   "mimetype": "text/x-python",
   "name": "python",
   "nbconvert_exporter": "python",
   "pygments_lexer": "ipython3",
   "version": "3.12.7"
  }
 },
 "nbformat": 4,
 "nbformat_minor": 5
}

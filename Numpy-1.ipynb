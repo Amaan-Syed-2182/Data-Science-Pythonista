{
 "cells": [
  {
   "cell_type": "markdown",
   "id": "0673a575-f143-4d6f-b935-25a31e160347",
   "metadata": {},
   "source": [
    "## Numpy\n",
    "#### This is a library in python which is used to perform mathematical tasks\n",
    "#### Also called Numerical-Python\n",
    "#### Uses array for mathematical operations\n",
    "#### Contiguos memory block that store Homogeneous Elements\n",
    "#### Numpy is Much Faster Due to Vectorized operations and low-level C optimizations\n",
    "#### Numpy Doesn't need loop to perform operations on each elements like lists, Supports Broadcast operations Directly\n",
    "#### Numpy Uses less memory, especially for large datasets\n",
    "#### Numpy offers a wide range of built in functions(eg: mean,std,dor,reshape)"
   ]
  },
  {
   "cell_type": "code",
   "execution_count": 41,
   "id": "26b30031-61c2-460f-8984-92300c697c35",
   "metadata": {},
   "outputs": [],
   "source": [
    "import numpy as np"
   ]
  },
  {
   "cell_type": "code",
   "execution_count": 43,
   "id": "e3a1586e-8ca3-4257-939b-f8c2162561ae",
   "metadata": {},
   "outputs": [
    {
     "name": "stdout",
     "output_type": "stream",
     "text": [
      "[0 1 2 3] <class 'numpy.ndarray'>\n"
     ]
    }
   ],
   "source": [
    "arr = np.arange(4) # Used to Generate an Array\n",
    "print(a,type(a)) # Type is an Array"
   ]
  },
  {
   "cell_type": "code",
   "execution_count": 45,
   "id": "09c0debd-2031-4277-9f31-797deb33851f",
   "metadata": {},
   "outputs": [
    {
     "data": {
      "text/plain": [
       "array([3, 4, 5, 6])"
      ]
     },
     "execution_count": 45,
     "metadata": {},
     "output_type": "execute_result"
    }
   ],
   "source": [
    "arr + 3 # Broadcasting Operation in Array, this can't be done using a List"
   ]
  },
  {
   "cell_type": "code",
   "execution_count": 47,
   "id": "dac53f0b-0a6f-4ea8-a626-0bfe1a3d0a06",
   "metadata": {},
   "outputs": [
    {
     "data": {
      "text/plain": [
       "4"
      ]
     },
     "execution_count": 47,
     "metadata": {},
     "output_type": "execute_result"
    }
   ],
   "source": [
    "arr.size # Tells number of elements"
   ]
  },
  {
   "cell_type": "code",
   "execution_count": 53,
   "id": "f1c657a1-c581-4398-9442-5f52e283a491",
   "metadata": {},
   "outputs": [
    {
     "data": {
      "text/plain": [
       "(4,)"
      ]
     },
     "execution_count": 53,
     "metadata": {},
     "output_type": "execute_result"
    }
   ],
   "source": [
    "arr.shape # Tells Number of cols and rows"
   ]
  },
  {
   "cell_type": "code",
   "execution_count": 57,
   "id": "02ee37cc-8e76-4117-860e-8d9c33ffe45e",
   "metadata": {},
   "outputs": [
    {
     "name": "stdout",
     "output_type": "stream",
     "text": [
      "[100   1   2   3] <class 'numpy.ndarray'>\n"
     ]
    }
   ],
   "source": [
    "arr[0] = 100\n",
    "print(arr, type(arr))"
   ]
  },
  {
   "cell_type": "code",
   "execution_count": 69,
   "id": "9bef91f4-391a-4e81-9585-ea9013aebc52",
   "metadata": {},
   "outputs": [
    {
     "name": "stdout",
     "output_type": "stream",
     "text": [
      "(3,) (2, 3)\n",
      "[10 20 30] [[10 20 30]\n",
      " [40 50 60]]\n"
     ]
    }
   ],
   "source": [
    "arr1 = np.array([10,20,30])\n",
    "arr2 = np.array([[10,20,30])\n",
    "print(arr1.shape,arr2.shape)\n",
    "print(arr1,arr2)"
   ]
  },
  {
   "cell_type": "code",
   "execution_count": 75,
   "id": "f4edf017-3c6b-4d5e-b967-2a49474b9fd7",
   "metadata": {},
   "outputs": [
    {
     "name": "stdout",
     "output_type": "stream",
     "text": [
      "(2, 3)\n",
      "[[10 20 30]\n",
      " [40 50 60]]\n",
      "[[10 20]\n",
      " [30 40]\n",
      " [50 60]]\n"
     ]
    }
   ],
   "source": [
    "arr3 = np.array([[10,20,30],\n",
    "                [40,50,60]])\n",
    "print(arr3.shape)\n",
    "print(arr3)\n",
    "print(arr3.reshape(3,2))"
   ]
  },
  {
   "cell_type": "code",
   "execution_count": 89,
   "id": "6d994da6-a1f6-4e10-834a-d884659d7f63",
   "metadata": {},
   "outputs": [
    {
     "name": "stdout",
     "output_type": "stream",
     "text": [
      "(1, 3, 3)\n",
      "[[[ 50  60  70]\n",
      "  [ 80  90 100]\n",
      "  [110 120 130]]]\n"
     ]
    }
   ],
   "source": [
    "arr3 = np.array([\n",
    "                [[50,60,70],\n",
    "                [80,90,100],\n",
    "                [110,120,130]]])\n",
    "print(arr3.shape)\n",
    "print(arr3)"
   ]
  },
  {
   "cell_type": "code",
   "execution_count": 95,
   "id": "47256f1a-a480-4b34-9fad-b65972a39296",
   "metadata": {},
   "outputs": [
    {
     "data": {
      "text/plain": [
       "(2, 3, 3)"
      ]
     },
     "execution_count": 95,
     "metadata": {},
     "output_type": "execute_result"
    }
   ],
   "source": [
    "arr4 = np.array([\n",
    "                 [[10,20,30],\n",
    "                  [40,50,60],\n",
    "                 [1,2,3]],\n",
    "                [[1,2,3],\n",
    "                 [2,3,4],\n",
    "                [4,5,6]]\n",
    "])\n",
    "arr4.shape"
   ]
  },
  {
   "cell_type": "code",
   "execution_count": 111,
   "id": "35af0456-1dca-4658-8f28-f67d796aafdd",
   "metadata": {},
   "outputs": [
    {
     "data": {
      "text/plain": [
       "array([[0., 0., 0., 0., 0., 0.],\n",
       "       [0., 0., 0., 0., 0., 0.]])"
      ]
     },
     "execution_count": 111,
     "metadata": {},
     "output_type": "execute_result"
    }
   ],
   "source": [
    "np.zeros((2,6)) # Creates array with elements only as zeroes"
   ]
  },
  {
   "cell_type": "code",
   "execution_count": 113,
   "id": "2ad735bb-2364-4a93-9bb2-4d64e3dabbfc",
   "metadata": {},
   "outputs": [
    {
     "data": {
      "text/plain": [
       "array([[1., 1., 1., 1., 1., 1.],\n",
       "       [1., 1., 1., 1., 1., 1.]])"
      ]
     },
     "execution_count": 113,
     "metadata": {},
     "output_type": "execute_result"
    }
   ],
   "source": [
    "np.ones((2,6)) # Creates array with only ones as elements"
   ]
  },
  {
   "cell_type": "code",
   "execution_count": 121,
   "id": "856b16c3-f77f-4c00-8e74-490c65422b48",
   "metadata": {},
   "outputs": [
    {
     "name": "stdout",
     "output_type": "stream",
     "text": [
      "[0. 1. 2. 3. 4. 5. 6. 7. 8. 9.]\n",
      "[[0. 1.]\n",
      " [2. 3.]\n",
      " [4. 5.]\n",
      " [6. 7.]\n",
      " [8. 9.]]\n",
      "[[1. 1.]\n",
      " [1. 1.]\n",
      " [1. 1.]\n",
      " [1. 1.]\n",
      " [1. 1.]]\n",
      "[[0. 0.]\n",
      " [0. 0.]\n",
      " [0. 0.]\n",
      " [0. 0.]\n",
      " [0. 0.]]\n"
     ]
    }
   ],
   "source": [
    "arr5 = np.arange(10,dtype = 'float')\n",
    "print(arr5)\n",
    "arr5 = arr5.reshape(5,2)\n",
    "print(arr5)\n",
    "\n",
    "print(np.ones_like(arr5)) # Creates array similar to specifies arrays shape\n",
    "print(np.zeros_like(arr5))"
   ]
  },
  {
   "cell_type": "code",
   "execution_count": 127,
   "id": "84b49267-a291-46fb-9310-30eb451a23d2",
   "metadata": {},
   "outputs": [
    {
     "name": "stdout",
     "output_type": "stream",
     "text": [
      "[1 3 5 7 9]\n"
     ]
    }
   ],
   "source": [
    "arr6 = np.arange(1,10,2) # syntax: arange(start,end[excluded similar as before], step size)\n",
    "print(arr6)"
   ]
  },
  {
   "cell_type": "code",
   "execution_count": null,
   "id": "ee457398-7ce9-42d8-b35d-d381dd75ba60",
   "metadata": {},
   "outputs": [],
   "source": []
  },
  {
   "cell_type": "code",
   "execution_count": null,
   "id": "302e20b9-ffee-41df-8546-ba6b3c8eac03",
   "metadata": {},
   "outputs": [],
   "source": []
  }
 ],
 "metadata": {
  "kernelspec": {
   "display_name": "Python [conda env:base] *",
   "language": "python",
   "name": "conda-base-py"
  },
  "language_info": {
   "codemirror_mode": {
    "name": "ipython",
    "version": 3
   },
   "file_extension": ".py",
   "mimetype": "text/x-python",
   "name": "python",
   "nbconvert_exporter": "python",
   "pygments_lexer": "ipython3",
   "version": "3.12.7"
  }
 },
 "nbformat": 4,
 "nbformat_minor": 5
}
